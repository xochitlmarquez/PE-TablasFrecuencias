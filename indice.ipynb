{
 "cells": [
  {
   "cell_type": "markdown",
   "id": "a7ea43cd",
   "metadata": {},
   "source": [
    "# Tablas de frecuencias\n",
    "\n",
    "## Índice\n",
    "\n",
    "- [Tabla de datos cuantitativos discretos](./tabla_dcuantitativosd.ipynb)\n",
    "- [Tabla de datos cuantitativos  continuos](./tabla_dcuantitativosc.ipynb)\n",
    "- [Tabla de datos cualitativos ](./tabla_dcualittivos.ipynb)"
   ]
  }
 ],
 "metadata": {
  "language_info": {
   "name": "python"
  }
 },
 "nbformat": 4,
 "nbformat_minor": 5
}
